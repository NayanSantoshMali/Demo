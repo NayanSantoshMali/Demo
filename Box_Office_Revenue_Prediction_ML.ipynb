{
  "nbformat": 4,
  "nbformat_minor": 0,
  "metadata": {
    "colab": {
      "provenance": [],
      "authorship_tag": "ABX9TyOvkgUF7HgS99uEVSd8bjZK",
      "include_colab_link": true
    },
    "kernelspec": {
      "name": "python3",
      "display_name": "Python 3"
    },
    "language_info": {
      "name": "python"
    }
  },
  "cells": [
    {
      "cell_type": "markdown",
      "metadata": {
        "id": "view-in-github",
        "colab_type": "text"
      },
      "source": [
        "<a href=\"https://colab.research.google.com/github/NayanSantoshMali/Demo/blob/main/Box_Office_Revenue_Prediction_ML.ipynb\" target=\"_parent\"><img src=\"https://colab.research.google.com/assets/colab-badge.svg\" alt=\"Open In Colab\"/></a>"
      ]
    },
    {
      "cell_type": "markdown",
      "source": [
        "# Box Office Revenue Prediction Using Linear Regression in ML"
      ],
      "metadata": {
        "id": "FN8T9FsWFcWX"
      }
    },
    {
      "cell_type": "code",
      "execution_count": null,
      "metadata": {
        "id": "G8y2BR4zFGbt"
      },
      "outputs": [],
      "source": [
        "import numpy as np\n",
        "import pandas as pd\n",
        "import matplotlib.pyplot as plt\n",
        "import seaborn as sb\n",
        "from sklearn.model_selection import train_test_split\n",
        "from sklearn.preprocessing import LabelEncoder, StandardScaler\n",
        "from sklearn.feature_extraction.text import CountVectorizer\n",
        "from sklearn import metrics\n",
        "from xgboost import XGBRegressor\n",
        "import warnings\n",
        "warnings.filterwarnings('ignore')"
      ]
    },
    {
      "cell_type": "code",
      "source": [
        "#connect google drive with collab\n",
        "from google.colab import drive\n",
        "drive.mount('/content/drive')\n"
      ],
      "metadata": {
        "colab": {
          "base_uri": "https://localhost:8080/"
        },
        "id": "6srnpu8XFkbo",
        "outputId": "9526d084-4ffe-4d7b-a058-b9c1d8193f57"
      },
      "execution_count": null,
      "outputs": [
        {
          "output_type": "stream",
          "name": "stdout",
          "text": [
            "Drive already mounted at /content/drive; to attempt to forcibly remount, call drive.mount(\"/content/drive\", force_remount=True).\n"
          ]
        }
      ]
    },
    {
      "cell_type": "code",
      "source": [
        "df = pd.read_csv('/content/drive/MyDrive/Machine learning/boxoffice.csv',\n",
        "                 encoding='latin-1')\n",
        "df.head()"
      ],
      "metadata": {
        "colab": {
          "base_uri": "https://localhost:8080/",
          "height": 206
        },
        "id": "QdrX_1P3Ftuo",
        "outputId": "e609743b-2214-47d0-f8c4-bfca908bd8e8"
      },
      "execution_count": null,
      "outputs": [
        {
          "output_type": "execute_result",
          "data": {
            "text/plain": [
              "           title  domestic_revenue  world_revenue   distributor  \\\n",
              "0   The Avengers           6026491     1274885664  Warner Bros.   \n",
              "1        Titanic         169411543     1132871091        Disney   \n",
              "2  Jurassic Park         107836098      583329845          Sony   \n",
              "3         Avatar          51433697     1225323391        Disney   \n",
              "4  The Lion King         142791649      604140729  Warner Bros.   \n",
              "\n",
              "   opening_revenue  opening_theaters     budget   MPAA     genres  \\\n",
              "0        163620146               253  174687337      R  Animation   \n",
              "1         85549990               122  103948486      G     Action   \n",
              "2         55681429              3826  122104991  NC-17     Horror   \n",
              "3        109775324              3868   46431596      G     Horror   \n",
              "4         59476800              2934  203513696      R     Comedy   \n",
              "\n",
              "   release_days  \n",
              "0            16  \n",
              "1           103  \n",
              "2            89  \n",
              "3            85  \n",
              "4           158  "
            ],
            "text/html": [
              "\n",
              "  <div id=\"df-cb8aff9d-ace4-4357-8425-fc02d44d7b17\" class=\"colab-df-container\">\n",
              "    <div>\n",
              "<style scoped>\n",
              "    .dataframe tbody tr th:only-of-type {\n",
              "        vertical-align: middle;\n",
              "    }\n",
              "\n",
              "    .dataframe tbody tr th {\n",
              "        vertical-align: top;\n",
              "    }\n",
              "\n",
              "    .dataframe thead th {\n",
              "        text-align: right;\n",
              "    }\n",
              "</style>\n",
              "<table border=\"1\" class=\"dataframe\">\n",
              "  <thead>\n",
              "    <tr style=\"text-align: right;\">\n",
              "      <th></th>\n",
              "      <th>title</th>\n",
              "      <th>domestic_revenue</th>\n",
              "      <th>world_revenue</th>\n",
              "      <th>distributor</th>\n",
              "      <th>opening_revenue</th>\n",
              "      <th>opening_theaters</th>\n",
              "      <th>budget</th>\n",
              "      <th>MPAA</th>\n",
              "      <th>genres</th>\n",
              "      <th>release_days</th>\n",
              "    </tr>\n",
              "  </thead>\n",
              "  <tbody>\n",
              "    <tr>\n",
              "      <th>0</th>\n",
              "      <td>The Avengers</td>\n",
              "      <td>6026491</td>\n",
              "      <td>1274885664</td>\n",
              "      <td>Warner Bros.</td>\n",
              "      <td>163620146</td>\n",
              "      <td>253</td>\n",
              "      <td>174687337</td>\n",
              "      <td>R</td>\n",
              "      <td>Animation</td>\n",
              "      <td>16</td>\n",
              "    </tr>\n",
              "    <tr>\n",
              "      <th>1</th>\n",
              "      <td>Titanic</td>\n",
              "      <td>169411543</td>\n",
              "      <td>1132871091</td>\n",
              "      <td>Disney</td>\n",
              "      <td>85549990</td>\n",
              "      <td>122</td>\n",
              "      <td>103948486</td>\n",
              "      <td>G</td>\n",
              "      <td>Action</td>\n",
              "      <td>103</td>\n",
              "    </tr>\n",
              "    <tr>\n",
              "      <th>2</th>\n",
              "      <td>Jurassic Park</td>\n",
              "      <td>107836098</td>\n",
              "      <td>583329845</td>\n",
              "      <td>Sony</td>\n",
              "      <td>55681429</td>\n",
              "      <td>3826</td>\n",
              "      <td>122104991</td>\n",
              "      <td>NC-17</td>\n",
              "      <td>Horror</td>\n",
              "      <td>89</td>\n",
              "    </tr>\n",
              "    <tr>\n",
              "      <th>3</th>\n",
              "      <td>Avatar</td>\n",
              "      <td>51433697</td>\n",
              "      <td>1225323391</td>\n",
              "      <td>Disney</td>\n",
              "      <td>109775324</td>\n",
              "      <td>3868</td>\n",
              "      <td>46431596</td>\n",
              "      <td>G</td>\n",
              "      <td>Horror</td>\n",
              "      <td>85</td>\n",
              "    </tr>\n",
              "    <tr>\n",
              "      <th>4</th>\n",
              "      <td>The Lion King</td>\n",
              "      <td>142791649</td>\n",
              "      <td>604140729</td>\n",
              "      <td>Warner Bros.</td>\n",
              "      <td>59476800</td>\n",
              "      <td>2934</td>\n",
              "      <td>203513696</td>\n",
              "      <td>R</td>\n",
              "      <td>Comedy</td>\n",
              "      <td>158</td>\n",
              "    </tr>\n",
              "  </tbody>\n",
              "</table>\n",
              "</div>\n",
              "    <div class=\"colab-df-buttons\">\n",
              "\n",
              "  <div class=\"colab-df-container\">\n",
              "    <button class=\"colab-df-convert\" onclick=\"convertToInteractive('df-cb8aff9d-ace4-4357-8425-fc02d44d7b17')\"\n",
              "            title=\"Convert this dataframe to an interactive table.\"\n",
              "            style=\"display:none;\">\n",
              "\n",
              "  <svg xmlns=\"http://www.w3.org/2000/svg\" height=\"24px\" viewBox=\"0 -960 960 960\">\n",
              "    <path d=\"M120-120v-720h720v720H120Zm60-500h600v-160H180v160Zm220 220h160v-160H400v160Zm0 220h160v-160H400v160ZM180-400h160v-160H180v160Zm440 0h160v-160H620v160ZM180-180h160v-160H180v160Zm440 0h160v-160H620v160Z\"/>\n",
              "  </svg>\n",
              "    </button>\n",
              "\n",
              "  <style>\n",
              "    .colab-df-container {\n",
              "      display:flex;\n",
              "      gap: 12px;\n",
              "    }\n",
              "\n",
              "    .colab-df-convert {\n",
              "      background-color: #E8F0FE;\n",
              "      border: none;\n",
              "      border-radius: 50%;\n",
              "      cursor: pointer;\n",
              "      display: none;\n",
              "      fill: #1967D2;\n",
              "      height: 32px;\n",
              "      padding: 0 0 0 0;\n",
              "      width: 32px;\n",
              "    }\n",
              "\n",
              "    .colab-df-convert:hover {\n",
              "      background-color: #E2EBFA;\n",
              "      box-shadow: 0px 1px 2px rgba(60, 64, 67, 0.3), 0px 1px 3px 1px rgba(60, 64, 67, 0.15);\n",
              "      fill: #174EA6;\n",
              "    }\n",
              "\n",
              "    .colab-df-buttons div {\n",
              "      margin-bottom: 4px;\n",
              "    }\n",
              "\n",
              "    [theme=dark] .colab-df-convert {\n",
              "      background-color: #3B4455;\n",
              "      fill: #D2E3FC;\n",
              "    }\n",
              "\n",
              "    [theme=dark] .colab-df-convert:hover {\n",
              "      background-color: #434B5C;\n",
              "      box-shadow: 0px 1px 3px 1px rgba(0, 0, 0, 0.15);\n",
              "      filter: drop-shadow(0px 1px 2px rgba(0, 0, 0, 0.3));\n",
              "      fill: #FFFFFF;\n",
              "    }\n",
              "  </style>\n",
              "\n",
              "    <script>\n",
              "      const buttonEl =\n",
              "        document.querySelector('#df-cb8aff9d-ace4-4357-8425-fc02d44d7b17 button.colab-df-convert');\n",
              "      buttonEl.style.display =\n",
              "        google.colab.kernel.accessAllowed ? 'block' : 'none';\n",
              "\n",
              "      async function convertToInteractive(key) {\n",
              "        const element = document.querySelector('#df-cb8aff9d-ace4-4357-8425-fc02d44d7b17');\n",
              "        const dataTable =\n",
              "          await google.colab.kernel.invokeFunction('convertToInteractive',\n",
              "                                                    [key], {});\n",
              "        if (!dataTable) return;\n",
              "\n",
              "        const docLinkHtml = 'Like what you see? Visit the ' +\n",
              "          '<a target=\"_blank\" href=https://colab.research.google.com/notebooks/data_table.ipynb>data table notebook</a>'\n",
              "          + ' to learn more about interactive tables.';\n",
              "        element.innerHTML = '';\n",
              "        dataTable['output_type'] = 'display_data';\n",
              "        await google.colab.output.renderOutput(dataTable, element);\n",
              "        const docLink = document.createElement('div');\n",
              "        docLink.innerHTML = docLinkHtml;\n",
              "        element.appendChild(docLink);\n",
              "      }\n",
              "    </script>\n",
              "  </div>\n",
              "\n",
              "\n",
              "<div id=\"df-5359eb30-2dcf-4b57-848e-443c61f7d94f\">\n",
              "  <button class=\"colab-df-quickchart\" onclick=\"quickchart('df-5359eb30-2dcf-4b57-848e-443c61f7d94f')\"\n",
              "            title=\"Suggest charts\"\n",
              "            style=\"display:none;\">\n",
              "\n",
              "<svg xmlns=\"http://www.w3.org/2000/svg\" height=\"24px\"viewBox=\"0 0 24 24\"\n",
              "     width=\"24px\">\n",
              "    <g>\n",
              "        <path d=\"M19 3H5c-1.1 0-2 .9-2 2v14c0 1.1.9 2 2 2h14c1.1 0 2-.9 2-2V5c0-1.1-.9-2-2-2zM9 17H7v-7h2v7zm4 0h-2V7h2v10zm4 0h-2v-4h2v4z\"/>\n",
              "    </g>\n",
              "</svg>\n",
              "  </button>\n",
              "\n",
              "<style>\n",
              "  .colab-df-quickchart {\n",
              "      --bg-color: #E8F0FE;\n",
              "      --fill-color: #1967D2;\n",
              "      --hover-bg-color: #E2EBFA;\n",
              "      --hover-fill-color: #174EA6;\n",
              "      --disabled-fill-color: #AAA;\n",
              "      --disabled-bg-color: #DDD;\n",
              "  }\n",
              "\n",
              "  [theme=dark] .colab-df-quickchart {\n",
              "      --bg-color: #3B4455;\n",
              "      --fill-color: #D2E3FC;\n",
              "      --hover-bg-color: #434B5C;\n",
              "      --hover-fill-color: #FFFFFF;\n",
              "      --disabled-bg-color: #3B4455;\n",
              "      --disabled-fill-color: #666;\n",
              "  }\n",
              "\n",
              "  .colab-df-quickchart {\n",
              "    background-color: var(--bg-color);\n",
              "    border: none;\n",
              "    border-radius: 50%;\n",
              "    cursor: pointer;\n",
              "    display: none;\n",
              "    fill: var(--fill-color);\n",
              "    height: 32px;\n",
              "    padding: 0;\n",
              "    width: 32px;\n",
              "  }\n",
              "\n",
              "  .colab-df-quickchart:hover {\n",
              "    background-color: var(--hover-bg-color);\n",
              "    box-shadow: 0 1px 2px rgba(60, 64, 67, 0.3), 0 1px 3px 1px rgba(60, 64, 67, 0.15);\n",
              "    fill: var(--button-hover-fill-color);\n",
              "  }\n",
              "\n",
              "  .colab-df-quickchart-complete:disabled,\n",
              "  .colab-df-quickchart-complete:disabled:hover {\n",
              "    background-color: var(--disabled-bg-color);\n",
              "    fill: var(--disabled-fill-color);\n",
              "    box-shadow: none;\n",
              "  }\n",
              "\n",
              "  .colab-df-spinner {\n",
              "    border: 2px solid var(--fill-color);\n",
              "    border-color: transparent;\n",
              "    border-bottom-color: var(--fill-color);\n",
              "    animation:\n",
              "      spin 1s steps(1) infinite;\n",
              "  }\n",
              "\n",
              "  @keyframes spin {\n",
              "    0% {\n",
              "      border-color: transparent;\n",
              "      border-bottom-color: var(--fill-color);\n",
              "      border-left-color: var(--fill-color);\n",
              "    }\n",
              "    20% {\n",
              "      border-color: transparent;\n",
              "      border-left-color: var(--fill-color);\n",
              "      border-top-color: var(--fill-color);\n",
              "    }\n",
              "    30% {\n",
              "      border-color: transparent;\n",
              "      border-left-color: var(--fill-color);\n",
              "      border-top-color: var(--fill-color);\n",
              "      border-right-color: var(--fill-color);\n",
              "    }\n",
              "    40% {\n",
              "      border-color: transparent;\n",
              "      border-right-color: var(--fill-color);\n",
              "      border-top-color: var(--fill-color);\n",
              "    }\n",
              "    60% {\n",
              "      border-color: transparent;\n",
              "      border-right-color: var(--fill-color);\n",
              "    }\n",
              "    80% {\n",
              "      border-color: transparent;\n",
              "      border-right-color: var(--fill-color);\n",
              "      border-bottom-color: var(--fill-color);\n",
              "    }\n",
              "    90% {\n",
              "      border-color: transparent;\n",
              "      border-bottom-color: var(--fill-color);\n",
              "    }\n",
              "  }\n",
              "</style>\n",
              "\n",
              "  <script>\n",
              "    async function quickchart(key) {\n",
              "      const quickchartButtonEl =\n",
              "        document.querySelector('#' + key + ' button');\n",
              "      quickchartButtonEl.disabled = true;  // To prevent multiple clicks.\n",
              "      quickchartButtonEl.classList.add('colab-df-spinner');\n",
              "      try {\n",
              "        const charts = await google.colab.kernel.invokeFunction(\n",
              "            'suggestCharts', [key], {});\n",
              "      } catch (error) {\n",
              "        console.error('Error during call to suggestCharts:', error);\n",
              "      }\n",
              "      quickchartButtonEl.classList.remove('colab-df-spinner');\n",
              "      quickchartButtonEl.classList.add('colab-df-quickchart-complete');\n",
              "    }\n",
              "    (() => {\n",
              "      let quickchartButtonEl =\n",
              "        document.querySelector('#df-5359eb30-2dcf-4b57-848e-443c61f7d94f button');\n",
              "      quickchartButtonEl.style.display =\n",
              "        google.colab.kernel.accessAllowed ? 'block' : 'none';\n",
              "    })();\n",
              "  </script>\n",
              "</div>\n",
              "\n",
              "    </div>\n",
              "  </div>\n"
            ],
            "application/vnd.google.colaboratory.intrinsic+json": {
              "type": "dataframe",
              "variable_name": "df",
              "summary": "{\n  \"name\": \"df\",\n  \"rows\": 2694,\n  \"fields\": [\n    {\n      \"column\": \"title\",\n      \"properties\": {\n        \"dtype\": \"category\",\n        \"num_unique_values\": 31,\n        \"samples\": [\n          \"Interstellar\",\n          \"Shrek\",\n          \"X-Men\"\n        ],\n        \"semantic_type\": \"\",\n        \"description\": \"\"\n      }\n    },\n    {\n      \"column\": \"domestic_revenue\",\n      \"properties\": {\n        \"dtype\": \"number\",\n        \"std\": 85799966,\n        \"min\": 827765,\n        \"max\": 299810741,\n        \"num_unique_values\": 2694,\n        \"samples\": [\n          194541325,\n          234649890,\n          251971119\n        ],\n        \"semantic_type\": \"\",\n        \"description\": \"\"\n      }\n    },\n    {\n      \"column\": \"world_revenue\",\n      \"properties\": {\n        \"dtype\": \"number\",\n        \"std\": 428441437,\n        \"min\": 3261301,\n        \"max\": 1499309932,\n        \"num_unique_values\": 2694,\n        \"samples\": [\n          595755417,\n          1475530016,\n          658641767\n        ],\n        \"semantic_type\": \"\",\n        \"description\": \"\"\n      }\n    },\n    {\n      \"column\": \"distributor\",\n      \"properties\": {\n        \"dtype\": \"category\",\n        \"num_unique_values\": 5,\n        \"samples\": [\n          \"Disney\",\n          \"Paramount\",\n          \"Sony\"\n        ],\n        \"semantic_type\": \"\",\n        \"description\": \"\"\n      }\n    },\n    {\n      \"column\": \"opening_revenue\",\n      \"properties\": {\n        \"dtype\": \"number\",\n        \"std\": 57217622,\n        \"min\": 138569,\n        \"max\": 199933639,\n        \"num_unique_values\": 2694,\n        \"samples\": [\n          93638851,\n          134807581,\n          193620921\n        ],\n        \"semantic_type\": \"\",\n        \"description\": \"\"\n      }\n    },\n    {\n      \"column\": \"opening_theaters\",\n      \"properties\": {\n        \"dtype\": \"number\",\n        \"std\": 1298,\n        \"min\": 10,\n        \"max\": 4499,\n        \"num_unique_values\": 2038,\n        \"samples\": [\n          78,\n          558,\n          305\n        ],\n        \"semantic_type\": \"\",\n        \"description\": \"\"\n      }\n    },\n    {\n      \"column\": \"budget\",\n      \"properties\": {\n        \"dtype\": \"number\",\n        \"std\": 85576243,\n        \"min\": 5197977,\n        \"max\": 299859703,\n        \"num_unique_values\": 2694,\n        \"samples\": [\n          35890420,\n          213725448,\n          162620821\n        ],\n        \"semantic_type\": \"\",\n        \"description\": \"\"\n      }\n    },\n    {\n      \"column\": \"MPAA\",\n      \"properties\": {\n        \"dtype\": \"category\",\n        \"num_unique_values\": 5,\n        \"samples\": [\n          \"G\",\n          \"PG\",\n          \"NC-17\"\n        ],\n        \"semantic_type\": \"\",\n        \"description\": \"\"\n      }\n    },\n    {\n      \"column\": \"genres\",\n      \"properties\": {\n        \"dtype\": \"category\",\n        \"num_unique_values\": 6,\n        \"samples\": [\n          \"Animation\",\n          \"Action\",\n          \"Thriller\"\n        ],\n        \"semantic_type\": \"\",\n        \"description\": \"\"\n      }\n    },\n    {\n      \"column\": \"release_days\",\n      \"properties\": {\n        \"dtype\": \"number\",\n        \"std\": 50,\n        \"min\": 1,\n        \"max\": 179,\n        \"num_unique_values\": 179,\n        \"samples\": [\n          121,\n          123,\n          141\n        ],\n        \"semantic_type\": \"\",\n        \"description\": \"\"\n      }\n    }\n  ]\n}"
            }
          },
          "metadata": {},
          "execution_count": 67
        }
      ]
    },
    {
      "cell_type": "code",
      "source": [
        "df.shape"
      ],
      "metadata": {
        "colab": {
          "base_uri": "https://localhost:8080/"
        },
        "id": "KBPgK6Y4GIsZ",
        "outputId": "2f378ef5-3a2d-497c-c17b-c4876c03b07d"
      },
      "execution_count": null,
      "outputs": [
        {
          "output_type": "execute_result",
          "data": {
            "text/plain": [
              "(2694, 10)"
            ]
          },
          "metadata": {},
          "execution_count": 68
        }
      ]
    },
    {
      "cell_type": "code",
      "source": [
        "df.info()"
      ],
      "metadata": {
        "colab": {
          "base_uri": "https://localhost:8080/"
        },
        "id": "MOxafKNEGKbI",
        "outputId": "3a654896-7368-42b7-e35d-9b448c7271e7"
      },
      "execution_count": null,
      "outputs": [
        {
          "output_type": "stream",
          "name": "stdout",
          "text": [
            "<class 'pandas.core.frame.DataFrame'>\n",
            "RangeIndex: 2694 entries, 0 to 2693\n",
            "Data columns (total 10 columns):\n",
            " #   Column            Non-Null Count  Dtype \n",
            "---  ------            --------------  ----- \n",
            " 0   title             2694 non-null   object\n",
            " 1   domestic_revenue  2694 non-null   int64 \n",
            " 2   world_revenue     2694 non-null   int64 \n",
            " 3   distributor       2694 non-null   object\n",
            " 4   opening_revenue   2694 non-null   int64 \n",
            " 5   opening_theaters  2694 non-null   int64 \n",
            " 6   budget            2694 non-null   int64 \n",
            " 7   MPAA              2694 non-null   object\n",
            " 8   genres            2694 non-null   object\n",
            " 9   release_days      2694 non-null   int64 \n",
            "dtypes: int64(6), object(4)\n",
            "memory usage: 210.6+ KB\n"
          ]
        }
      ]
    },
    {
      "cell_type": "code",
      "source": [
        "df.describe().T"
      ],
      "metadata": {
        "colab": {
          "base_uri": "https://localhost:8080/",
          "height": 237
        },
        "id": "rjbC4FlqGNAJ",
        "outputId": "cc3abfc0-365e-4ec3-f7fc-44fe603681d7"
      },
      "execution_count": null,
      "outputs": [
        {
          "output_type": "execute_result",
          "data": {
            "text/plain": [
              "                   count          mean           std        min           25%  \\\n",
              "domestic_revenue  2694.0  1.508539e+08  8.579997e+07   827765.0  7.673272e+07   \n",
              "world_revenue     2694.0  7.719177e+08  4.284414e+08  3261301.0  3.991135e+08   \n",
              "opening_revenue   2694.0  9.971321e+07  5.721762e+07   138569.0  5.033848e+07   \n",
              "opening_theaters  2694.0  2.263039e+03  1.298559e+03       10.0  1.161000e+03   \n",
              "budget            2694.0  1.537996e+08  8.557624e+07  5197977.0  7.861876e+07   \n",
              "release_days      2694.0  9.089755e+01  5.089404e+01        1.0  4.700000e+01   \n",
              "\n",
              "                          50%           75%           max  \n",
              "domestic_revenue  152572473.5  2.247314e+08  2.998107e+08  \n",
              "world_revenue     766555142.5  1.143920e+09  1.499310e+09  \n",
              "opening_revenue    99814175.0  1.489805e+08  1.999336e+08  \n",
              "opening_theaters       2271.5  3.392250e+03  4.499000e+03  \n",
              "budget            156256716.0  2.274832e+08  2.998597e+08  \n",
              "release_days             91.0  1.350000e+02  1.790000e+02  "
            ],
            "text/html": [
              "\n",
              "  <div id=\"df-9fe04f82-f4df-483f-9ee1-8414052b2566\" class=\"colab-df-container\">\n",
              "    <div>\n",
              "<style scoped>\n",
              "    .dataframe tbody tr th:only-of-type {\n",
              "        vertical-align: middle;\n",
              "    }\n",
              "\n",
              "    .dataframe tbody tr th {\n",
              "        vertical-align: top;\n",
              "    }\n",
              "\n",
              "    .dataframe thead th {\n",
              "        text-align: right;\n",
              "    }\n",
              "</style>\n",
              "<table border=\"1\" class=\"dataframe\">\n",
              "  <thead>\n",
              "    <tr style=\"text-align: right;\">\n",
              "      <th></th>\n",
              "      <th>count</th>\n",
              "      <th>mean</th>\n",
              "      <th>std</th>\n",
              "      <th>min</th>\n",
              "      <th>25%</th>\n",
              "      <th>50%</th>\n",
              "      <th>75%</th>\n",
              "      <th>max</th>\n",
              "    </tr>\n",
              "  </thead>\n",
              "  <tbody>\n",
              "    <tr>\n",
              "      <th>domestic_revenue</th>\n",
              "      <td>2694.0</td>\n",
              "      <td>1.508539e+08</td>\n",
              "      <td>8.579997e+07</td>\n",
              "      <td>827765.0</td>\n",
              "      <td>7.673272e+07</td>\n",
              "      <td>152572473.5</td>\n",
              "      <td>2.247314e+08</td>\n",
              "      <td>2.998107e+08</td>\n",
              "    </tr>\n",
              "    <tr>\n",
              "      <th>world_revenue</th>\n",
              "      <td>2694.0</td>\n",
              "      <td>7.719177e+08</td>\n",
              "      <td>4.284414e+08</td>\n",
              "      <td>3261301.0</td>\n",
              "      <td>3.991135e+08</td>\n",
              "      <td>766555142.5</td>\n",
              "      <td>1.143920e+09</td>\n",
              "      <td>1.499310e+09</td>\n",
              "    </tr>\n",
              "    <tr>\n",
              "      <th>opening_revenue</th>\n",
              "      <td>2694.0</td>\n",
              "      <td>9.971321e+07</td>\n",
              "      <td>5.721762e+07</td>\n",
              "      <td>138569.0</td>\n",
              "      <td>5.033848e+07</td>\n",
              "      <td>99814175.0</td>\n",
              "      <td>1.489805e+08</td>\n",
              "      <td>1.999336e+08</td>\n",
              "    </tr>\n",
              "    <tr>\n",
              "      <th>opening_theaters</th>\n",
              "      <td>2694.0</td>\n",
              "      <td>2.263039e+03</td>\n",
              "      <td>1.298559e+03</td>\n",
              "      <td>10.0</td>\n",
              "      <td>1.161000e+03</td>\n",
              "      <td>2271.5</td>\n",
              "      <td>3.392250e+03</td>\n",
              "      <td>4.499000e+03</td>\n",
              "    </tr>\n",
              "    <tr>\n",
              "      <th>budget</th>\n",
              "      <td>2694.0</td>\n",
              "      <td>1.537996e+08</td>\n",
              "      <td>8.557624e+07</td>\n",
              "      <td>5197977.0</td>\n",
              "      <td>7.861876e+07</td>\n",
              "      <td>156256716.0</td>\n",
              "      <td>2.274832e+08</td>\n",
              "      <td>2.998597e+08</td>\n",
              "    </tr>\n",
              "    <tr>\n",
              "      <th>release_days</th>\n",
              "      <td>2694.0</td>\n",
              "      <td>9.089755e+01</td>\n",
              "      <td>5.089404e+01</td>\n",
              "      <td>1.0</td>\n",
              "      <td>4.700000e+01</td>\n",
              "      <td>91.0</td>\n",
              "      <td>1.350000e+02</td>\n",
              "      <td>1.790000e+02</td>\n",
              "    </tr>\n",
              "  </tbody>\n",
              "</table>\n",
              "</div>\n",
              "    <div class=\"colab-df-buttons\">\n",
              "\n",
              "  <div class=\"colab-df-container\">\n",
              "    <button class=\"colab-df-convert\" onclick=\"convertToInteractive('df-9fe04f82-f4df-483f-9ee1-8414052b2566')\"\n",
              "            title=\"Convert this dataframe to an interactive table.\"\n",
              "            style=\"display:none;\">\n",
              "\n",
              "  <svg xmlns=\"http://www.w3.org/2000/svg\" height=\"24px\" viewBox=\"0 -960 960 960\">\n",
              "    <path d=\"M120-120v-720h720v720H120Zm60-500h600v-160H180v160Zm220 220h160v-160H400v160Zm0 220h160v-160H400v160ZM180-400h160v-160H180v160Zm440 0h160v-160H620v160ZM180-180h160v-160H180v160Zm440 0h160v-160H620v160Z\"/>\n",
              "  </svg>\n",
              "    </button>\n",
              "\n",
              "  <style>\n",
              "    .colab-df-container {\n",
              "      display:flex;\n",
              "      gap: 12px;\n",
              "    }\n",
              "\n",
              "    .colab-df-convert {\n",
              "      background-color: #E8F0FE;\n",
              "      border: none;\n",
              "      border-radius: 50%;\n",
              "      cursor: pointer;\n",
              "      display: none;\n",
              "      fill: #1967D2;\n",
              "      height: 32px;\n",
              "      padding: 0 0 0 0;\n",
              "      width: 32px;\n",
              "    }\n",
              "\n",
              "    .colab-df-convert:hover {\n",
              "      background-color: #E2EBFA;\n",
              "      box-shadow: 0px 1px 2px rgba(60, 64, 67, 0.3), 0px 1px 3px 1px rgba(60, 64, 67, 0.15);\n",
              "      fill: #174EA6;\n",
              "    }\n",
              "\n",
              "    .colab-df-buttons div {\n",
              "      margin-bottom: 4px;\n",
              "    }\n",
              "\n",
              "    [theme=dark] .colab-df-convert {\n",
              "      background-color: #3B4455;\n",
              "      fill: #D2E3FC;\n",
              "    }\n",
              "\n",
              "    [theme=dark] .colab-df-convert:hover {\n",
              "      background-color: #434B5C;\n",
              "      box-shadow: 0px 1px 3px 1px rgba(0, 0, 0, 0.15);\n",
              "      filter: drop-shadow(0px 1px 2px rgba(0, 0, 0, 0.3));\n",
              "      fill: #FFFFFF;\n",
              "    }\n",
              "  </style>\n",
              "\n",
              "    <script>\n",
              "      const buttonEl =\n",
              "        document.querySelector('#df-9fe04f82-f4df-483f-9ee1-8414052b2566 button.colab-df-convert');\n",
              "      buttonEl.style.display =\n",
              "        google.colab.kernel.accessAllowed ? 'block' : 'none';\n",
              "\n",
              "      async function convertToInteractive(key) {\n",
              "        const element = document.querySelector('#df-9fe04f82-f4df-483f-9ee1-8414052b2566');\n",
              "        const dataTable =\n",
              "          await google.colab.kernel.invokeFunction('convertToInteractive',\n",
              "                                                    [key], {});\n",
              "        if (!dataTable) return;\n",
              "\n",
              "        const docLinkHtml = 'Like what you see? Visit the ' +\n",
              "          '<a target=\"_blank\" href=https://colab.research.google.com/notebooks/data_table.ipynb>data table notebook</a>'\n",
              "          + ' to learn more about interactive tables.';\n",
              "        element.innerHTML = '';\n",
              "        dataTable['output_type'] = 'display_data';\n",
              "        await google.colab.output.renderOutput(dataTable, element);\n",
              "        const docLink = document.createElement('div');\n",
              "        docLink.innerHTML = docLinkHtml;\n",
              "        element.appendChild(docLink);\n",
              "      }\n",
              "    </script>\n",
              "  </div>\n",
              "\n",
              "\n",
              "<div id=\"df-77e4aff7-cc9e-4eab-8c5f-a06407926189\">\n",
              "  <button class=\"colab-df-quickchart\" onclick=\"quickchart('df-77e4aff7-cc9e-4eab-8c5f-a06407926189')\"\n",
              "            title=\"Suggest charts\"\n",
              "            style=\"display:none;\">\n",
              "\n",
              "<svg xmlns=\"http://www.w3.org/2000/svg\" height=\"24px\"viewBox=\"0 0 24 24\"\n",
              "     width=\"24px\">\n",
              "    <g>\n",
              "        <path d=\"M19 3H5c-1.1 0-2 .9-2 2v14c0 1.1.9 2 2 2h14c1.1 0 2-.9 2-2V5c0-1.1-.9-2-2-2zM9 17H7v-7h2v7zm4 0h-2V7h2v10zm4 0h-2v-4h2v4z\"/>\n",
              "    </g>\n",
              "</svg>\n",
              "  </button>\n",
              "\n",
              "<style>\n",
              "  .colab-df-quickchart {\n",
              "      --bg-color: #E8F0FE;\n",
              "      --fill-color: #1967D2;\n",
              "      --hover-bg-color: #E2EBFA;\n",
              "      --hover-fill-color: #174EA6;\n",
              "      --disabled-fill-color: #AAA;\n",
              "      --disabled-bg-color: #DDD;\n",
              "  }\n",
              "\n",
              "  [theme=dark] .colab-df-quickchart {\n",
              "      --bg-color: #3B4455;\n",
              "      --fill-color: #D2E3FC;\n",
              "      --hover-bg-color: #434B5C;\n",
              "      --hover-fill-color: #FFFFFF;\n",
              "      --disabled-bg-color: #3B4455;\n",
              "      --disabled-fill-color: #666;\n",
              "  }\n",
              "\n",
              "  .colab-df-quickchart {\n",
              "    background-color: var(--bg-color);\n",
              "    border: none;\n",
              "    border-radius: 50%;\n",
              "    cursor: pointer;\n",
              "    display: none;\n",
              "    fill: var(--fill-color);\n",
              "    height: 32px;\n",
              "    padding: 0;\n",
              "    width: 32px;\n",
              "  }\n",
              "\n",
              "  .colab-df-quickchart:hover {\n",
              "    background-color: var(--hover-bg-color);\n",
              "    box-shadow: 0 1px 2px rgba(60, 64, 67, 0.3), 0 1px 3px 1px rgba(60, 64, 67, 0.15);\n",
              "    fill: var(--button-hover-fill-color);\n",
              "  }\n",
              "\n",
              "  .colab-df-quickchart-complete:disabled,\n",
              "  .colab-df-quickchart-complete:disabled:hover {\n",
              "    background-color: var(--disabled-bg-color);\n",
              "    fill: var(--disabled-fill-color);\n",
              "    box-shadow: none;\n",
              "  }\n",
              "\n",
              "  .colab-df-spinner {\n",
              "    border: 2px solid var(--fill-color);\n",
              "    border-color: transparent;\n",
              "    border-bottom-color: var(--fill-color);\n",
              "    animation:\n",
              "      spin 1s steps(1) infinite;\n",
              "  }\n",
              "\n",
              "  @keyframes spin {\n",
              "    0% {\n",
              "      border-color: transparent;\n",
              "      border-bottom-color: var(--fill-color);\n",
              "      border-left-color: var(--fill-color);\n",
              "    }\n",
              "    20% {\n",
              "      border-color: transparent;\n",
              "      border-left-color: var(--fill-color);\n",
              "      border-top-color: var(--fill-color);\n",
              "    }\n",
              "    30% {\n",
              "      border-color: transparent;\n",
              "      border-left-color: var(--fill-color);\n",
              "      border-top-color: var(--fill-color);\n",
              "      border-right-color: var(--fill-color);\n",
              "    }\n",
              "    40% {\n",
              "      border-color: transparent;\n",
              "      border-right-color: var(--fill-color);\n",
              "      border-top-color: var(--fill-color);\n",
              "    }\n",
              "    60% {\n",
              "      border-color: transparent;\n",
              "      border-right-color: var(--fill-color);\n",
              "    }\n",
              "    80% {\n",
              "      border-color: transparent;\n",
              "      border-right-color: var(--fill-color);\n",
              "      border-bottom-color: var(--fill-color);\n",
              "    }\n",
              "    90% {\n",
              "      border-color: transparent;\n",
              "      border-bottom-color: var(--fill-color);\n",
              "    }\n",
              "  }\n",
              "</style>\n",
              "\n",
              "  <script>\n",
              "    async function quickchart(key) {\n",
              "      const quickchartButtonEl =\n",
              "        document.querySelector('#' + key + ' button');\n",
              "      quickchartButtonEl.disabled = true;  // To prevent multiple clicks.\n",
              "      quickchartButtonEl.classList.add('colab-df-spinner');\n",
              "      try {\n",
              "        const charts = await google.colab.kernel.invokeFunction(\n",
              "            'suggestCharts', [key], {});\n",
              "      } catch (error) {\n",
              "        console.error('Error during call to suggestCharts:', error);\n",
              "      }\n",
              "      quickchartButtonEl.classList.remove('colab-df-spinner');\n",
              "      quickchartButtonEl.classList.add('colab-df-quickchart-complete');\n",
              "    }\n",
              "    (() => {\n",
              "      let quickchartButtonEl =\n",
              "        document.querySelector('#df-77e4aff7-cc9e-4eab-8c5f-a06407926189 button');\n",
              "      quickchartButtonEl.style.display =\n",
              "        google.colab.kernel.accessAllowed ? 'block' : 'none';\n",
              "    })();\n",
              "  </script>\n",
              "</div>\n",
              "\n",
              "    </div>\n",
              "  </div>\n"
            ],
            "application/vnd.google.colaboratory.intrinsic+json": {
              "type": "dataframe",
              "summary": "{\n  \"name\": \"df\",\n  \"rows\": 6,\n  \"fields\": [\n    {\n      \"column\": \"count\",\n      \"properties\": {\n        \"dtype\": \"number\",\n        \"std\": 0.0,\n        \"min\": 2694.0,\n        \"max\": 2694.0,\n        \"num_unique_values\": 1,\n        \"samples\": [\n          2694.0\n        ],\n        \"semantic_type\": \"\",\n        \"description\": \"\"\n      }\n    },\n    {\n      \"column\": \"mean\",\n      \"properties\": {\n        \"dtype\": \"number\",\n        \"std\": 290379889.52917033,\n        \"min\": 90.89755011135857,\n        \"max\": 771917657.792873,\n        \"num_unique_values\": 6,\n        \"samples\": [\n          150853885.89272457\n        ],\n        \"semantic_type\": \"\",\n        \"description\": \"\"\n      }\n    },\n    {\n      \"column\": \"std\",\n      \"properties\": {\n        \"dtype\": \"number\",\n        \"std\": 160979085.17184156,\n        \"min\": 50.89404079045231,\n        \"max\": 428441437.2259832,\n        \"num_unique_values\": 6,\n        \"samples\": [\n          85799966.31261733\n        ],\n        \"semantic_type\": \"\",\n        \"description\": \"\"\n      }\n    },\n    {\n      \"column\": \"min\",\n      \"properties\": {\n        \"dtype\": \"number\",\n        \"std\": 2170363.2819658937,\n        \"min\": 1.0,\n        \"max\": 5197977.0,\n        \"num_unique_values\": 6,\n        \"samples\": [\n          827765.0\n        ],\n        \"semantic_type\": \"\",\n        \"description\": \"\"\n      }\n    },\n    {\n      \"column\": \"25%\",\n      \"properties\": {\n        \"dtype\": \"number\",\n        \"std\": 150286126.60193232,\n        \"min\": 47.0,\n        \"max\": 399113521.25,\n        \"num_unique_values\": 6,\n        \"samples\": [\n          76732721.25\n        ],\n        \"semantic_type\": \"\",\n        \"description\": \"\"\n      }\n    },\n    {\n      \"column\": \"50%\",\n      \"properties\": {\n        \"dtype\": \"number\",\n        \"std\": 288125434.39112794,\n        \"min\": 91.0,\n        \"max\": 766555142.5,\n        \"num_unique_values\": 6,\n        \"samples\": [\n          152572473.5\n        ],\n        \"semantic_type\": \"\",\n        \"description\": \"\"\n      }\n    },\n    {\n      \"column\": \"75%\",\n      \"properties\": {\n        \"dtype\": \"number\",\n        \"std\": 430215646.95296884,\n        \"min\": 135.0,\n        \"max\": 1143919835.0,\n        \"num_unique_values\": 6,\n        \"samples\": [\n          224731428.75\n        ],\n        \"semantic_type\": \"\",\n        \"description\": \"\"\n      }\n    },\n    {\n      \"column\": \"max\",\n      \"properties\": {\n        \"dtype\": \"number\",\n        \"std\": 563359244.9966503,\n        \"min\": 179.0,\n        \"max\": 1499309932.0,\n        \"num_unique_values\": 6,\n        \"samples\": [\n          299810741.0\n        ],\n        \"semantic_type\": \"\",\n        \"description\": \"\"\n      }\n    }\n  ]\n}"
            }
          },
          "metadata": {},
          "execution_count": 70
        }
      ]
    },
    {
      "cell_type": "markdown",
      "source": [
        "### **Data cleaning**"
      ],
      "metadata": {
        "id": "DzW1uy-5JpAK"
      }
    },
    {
      "cell_type": "code",
      "source": [
        "# We will be predicting only\n",
        "# domestic_revenue in this Dataset.\n",
        "\n",
        "to_remove = ['world_revenue', 'opening_revenue']\n",
        "df.drop(to_remove, axis=1, inplace=True)\n"
      ],
      "metadata": {
        "id": "W_9tuTPJGSKN"
      },
      "execution_count": null,
      "outputs": []
    },
    {
      "cell_type": "code",
      "source": [
        "df.isnull().sum() * 100 / df.shape[0] #Calculate the % of Missing Data in each column"
      ],
      "metadata": {
        "colab": {
          "base_uri": "https://localhost:8080/",
          "height": 335
        },
        "id": "iHIysbpTGYTl",
        "outputId": "608ac23f-84c1-46d9-ccb7-b3d0120c6077"
      },
      "execution_count": null,
      "outputs": [
        {
          "output_type": "execute_result",
          "data": {
            "text/plain": [
              "title               0.0\n",
              "domestic_revenue    0.0\n",
              "distributor         0.0\n",
              "opening_theaters    0.0\n",
              "budget              0.0\n",
              "MPAA                0.0\n",
              "genres              0.0\n",
              "release_days        0.0\n",
              "dtype: float64"
            ],
            "text/html": [
              "<div>\n",
              "<style scoped>\n",
              "    .dataframe tbody tr th:only-of-type {\n",
              "        vertical-align: middle;\n",
              "    }\n",
              "\n",
              "    .dataframe tbody tr th {\n",
              "        vertical-align: top;\n",
              "    }\n",
              "\n",
              "    .dataframe thead th {\n",
              "        text-align: right;\n",
              "    }\n",
              "</style>\n",
              "<table border=\"1\" class=\"dataframe\">\n",
              "  <thead>\n",
              "    <tr style=\"text-align: right;\">\n",
              "      <th></th>\n",
              "      <th>0</th>\n",
              "    </tr>\n",
              "  </thead>\n",
              "  <tbody>\n",
              "    <tr>\n",
              "      <th>title</th>\n",
              "      <td>0.0</td>\n",
              "    </tr>\n",
              "    <tr>\n",
              "      <th>domestic_revenue</th>\n",
              "      <td>0.0</td>\n",
              "    </tr>\n",
              "    <tr>\n",
              "      <th>distributor</th>\n",
              "      <td>0.0</td>\n",
              "    </tr>\n",
              "    <tr>\n",
              "      <th>opening_theaters</th>\n",
              "      <td>0.0</td>\n",
              "    </tr>\n",
              "    <tr>\n",
              "      <th>budget</th>\n",
              "      <td>0.0</td>\n",
              "    </tr>\n",
              "    <tr>\n",
              "      <th>MPAA</th>\n",
              "      <td>0.0</td>\n",
              "    </tr>\n",
              "    <tr>\n",
              "      <th>genres</th>\n",
              "      <td>0.0</td>\n",
              "    </tr>\n",
              "    <tr>\n",
              "      <th>release_days</th>\n",
              "      <td>0.0</td>\n",
              "    </tr>\n",
              "  </tbody>\n",
              "</table>\n",
              "</div><br><label><b>dtype:</b> float64</label>"
            ]
          },
          "metadata": {},
          "execution_count": 72
        }
      ]
    },
    {
      "cell_type": "code",
      "source": [
        "# Handling the null value columns\n",
        "df.drop('budget', axis=1, inplace=True)\n",
        "\n",
        "for col in ['MPAA', 'genres']:\n",
        "    df[col] = df[col].fillna(df[col].mode()[0])\n",
        "\n",
        "df.dropna(inplace=True)\n",
        "\n",
        "df.isnull().sum().sum()\n"
      ],
      "metadata": {
        "colab": {
          "base_uri": "https://localhost:8080/"
        },
        "id": "RQ17Q5NjGbo5",
        "outputId": "6b285a3f-7a64-43b2-a6d8-097606a004d9"
      },
      "execution_count": null,
      "outputs": [
        {
          "output_type": "execute_result",
          "data": {
            "text/plain": [
              "0"
            ]
          },
          "metadata": {},
          "execution_count": 73
        }
      ]
    },
    {
      "cell_type": "code",
      "source": [
        "df['domestic_revenue'] = df['domestic_revenue'].astype(str).str[1:]\n",
        "\n",
        "for col in ['domestic_revenue', 'opening_theaters', 'release_days']:\n",
        "    df[col] = df[col].astype(str).str.replace(',', '')\n",
        "\n",
        "    # Selecting rows with no null values\n",
        "    # in the columns on which we are iterating.\n",
        "    temp = (~df[col].isnull())\n",
        "    df[temp][col] = df[temp][col].convert_dtypes(float)\n",
        "\n",
        "    df[col] = pd.to_numeric(df[col], errors='coerce')"
      ],
      "metadata": {
        "id": "FkHAFSD_Geak"
      },
      "execution_count": null,
      "outputs": []
    },
    {
      "cell_type": "markdown",
      "source": [
        "## Exploratory Data Analysis"
      ],
      "metadata": {
        "id": "KXLZk2MxGkYJ"
      }
    },
    {
      "cell_type": "code",
      "source": [
        "plt.figure(figsize=(5, 3))\n",
        "sb.countplot(df['MPAA'])\n",
        "plt.show()\n"
      ],
      "metadata": {
        "colab": {
          "base_uri": "https://localhost:8080/",
          "height": 311
        },
        "id": "qJv1fsswGi34",
        "outputId": "a55611e2-80b4-42b0-db17-a296a64f9806"
      },
      "execution_count": null,
      "outputs": [
        {
          "output_type": "display_data",
          "data": {
            "text/plain": [
              "<Figure size 500x300 with 1 Axes>"
            ],
            "image/png": "[encoded data removed]"
          },
          "metadata": {}
        }
      ]
    },
    {
      "cell_type": "code",
      "source": [
        "df.groupby('MPAA')['domestic_revenue'].mean()\n"
      ],
      "metadata": {
        "colab": {
          "base_uri": "https://localhost:8080/",
          "height": 272
        },
        "id": "UHA_zaSjGtHJ",
        "outputId": "93681984-9938-401d-8cb2-71da09121129"
      },
      "execution_count": null,
      "outputs": [
        {
          "output_type": "execute_result",
          "data": {
            "text/plain": [
              "MPAA\n",
              "G        3.426099e+07\n",
              "NC-17    3.452006e+07\n",
              "PG       3.697347e+07\n",
              "PG-13    3.510989e+07\n",
              "R        3.670206e+07\n",
              "Name: domestic_revenue, dtype: float64"
            ],
            "text/html": [
              "<div>\n",
              "<style scoped>\n",
              "    .dataframe tbody tr th:only-of-type {\n",
              "        vertical-align: middle;\n",
              "    }\n",
              "\n",
              "    .dataframe tbody tr th {\n",
              "        vertical-align: top;\n",
              "    }\n",
              "\n",
              "    .dataframe thead th {\n",
              "        text-align: right;\n",
              "    }\n",
              "</style>\n",
              "<table border=\"1\" class=\"dataframe\">\n",
              "  <thead>\n",
              "    <tr style=\"text-align: right;\">\n",
              "      <th></th>\n",
              "      <th>domestic_revenue</th>\n",
              "    </tr>\n",
              "    <tr>\n",
              "      <th>MPAA</th>\n",
              "      <th></th>\n",
              "    </tr>\n",
              "  </thead>\n",
              "  <tbody>\n",
              "    <tr>\n",
              "      <th>G</th>\n",
              "      <td>3.426099e+07</td>\n",
              "    </tr>\n",
              "    <tr>\n",
              "      <th>NC-17</th>\n",
              "      <td>3.452006e+07</td>\n",
              "    </tr>\n",
              "    <tr>\n",
              "      <th>PG</th>\n",
              "      <td>3.697347e+07</td>\n",
              "    </tr>\n",
              "    <tr>\n",
              "      <th>PG-13</th>\n",
              "      <td>3.510989e+07</td>\n",
              "    </tr>\n",
              "    <tr>\n",
              "      <th>R</th>\n",
              "      <td>3.670206e+07</td>\n",
              "    </tr>\n",
              "  </tbody>\n",
              "</table>\n",
              "</div><br><label><b>dtype:</b> float64</label>"
            ]
          },
          "metadata": {},
          "execution_count": 76
        }
      ]
    },
    {
      "cell_type": "code",
      "source": [
        "plt.subplots(figsize=(10, 3))\n",
        "\n",
        "features = ['domestic_revenue', 'opening_theaters', 'release_days']\n",
        "for i, col in enumerate(features):\n",
        "    plt.subplot(1, 3, i+1)\n",
        "    sb.distplot(df[col])\n",
        "plt.tight_layout()\n",
        "plt.show()\n"
      ],
      "metadata": {
        "colab": {
          "base_uri": "https://localhost:8080/",
          "height": 277
        },
        "id": "wpdOqpoKGvDi",
        "outputId": "d13e2d3f-9e51-4f2d-a58d-b7ac0b0aa999"
      },
      "execution_count": null,
      "outputs": [
        {
          "output_type": "display_data",
          "data": {
            "text/plain": [
              "<Figure size 1000x300 with 4 Axes>"
            ],
            "image/png": "[encoded data removed]"
          },
          "metadata": {}
        }
      ]
    },
    {
      "cell_type": "code",
      "source": [
        "plt.subplots(figsize=(10, 3))\n",
        "for i, col in enumerate(features):\n",
        "    plt.subplot(1, 3, i+1)\n",
        "    sb.boxplot(df[col])\n",
        "plt.tight_layout()\n",
        "plt.show()\n"
      ],
      "metadata": {
        "colab": {
          "base_uri": "https://localhost:8080/",
          "height": 296
        },
        "id": "ZCsDiTMlHCDM",
        "outputId": "b1a36e6f-5a8b-4517-c9c1-102dd0155768"
      },
      "execution_count": null,
      "outputs": [
        {
          "output_type": "display_data",
          "data": {
            "text/plain": [
              "<Figure size 1000x300 with 4 Axes>"
            ],
            "image/png": "[encoded data removed]"
          },
          "metadata": {}
        }
      ]
    },
    {
      "cell_type": "code",
      "source": [
        "for col in features:\n",
        "  df[col] = df[col].apply(lambda x: np.log10(x))\n"
      ],
      "metadata": {
        "id": "jtyyqdchHJOe"
      },
      "execution_count": null,
      "outputs": []
    },
    {
      "cell_type": "code",
      "source": [
        "plt.subplots(figsize=(10, 3))\n",
        "for i, col in enumerate(features):\n",
        "    plt.subplot(1, 3, i+1)\n",
        "    sb.distplot(df[col])\n",
        "plt.tight_layout()\n",
        "plt.show()\n"
      ],
      "metadata": {
        "colab": {
          "base_uri": "https://localhost:8080/",
          "height": 278
        },
        "id": "gBLWog9-HPuF",
        "outputId": "59f1161c-0bf1-488a-a18d-e60b3d82f301"
      },
      "execution_count": null,
      "outputs": [
        {
          "output_type": "display_data",
          "data": {
            "text/plain": [
              "<Figure size 1000x300 with 4 Axes>"
            ],
            "image/png": "[encoded data removed]"
          },
          "metadata": {}
        }
      ]
    },
    {
      "cell_type": "markdown",
      "source": [
        "### Creating Features from the Genre"
      ],
      "metadata": {
        "id": "B7pB1i-JHajF"
      }
    },
    {
      "cell_type": "code",
      "source": [
        "vectorizer = CountVectorizer()\n",
        "vectorizer.fit(df['genres'])\n",
        "features = vectorizer.transform(df['genres']).toarray()\n",
        "\n",
        "genres = vectorizer.get_feature_names_out()\n",
        "for i, name in enumerate(genres):\n",
        "    df[name] = features[:, i]\n",
        "\n",
        "df.drop('genres', axis=1, inplace=True)"
      ],
      "metadata": {
        "id": "HJJxjtBxHWqc"
      },
      "execution_count": null,
      "outputs": []
    },
    {
      "cell_type": "code",
      "source": [
        "removed = 0\n",
        "# Check if 'action' and 'western' columns exist before slicing\n",
        "if 'action' in df.columns and 'western' in df.columns:\n",
        "    for col in df.loc[:, 'action':'western'].columns:\n",
        "\n",
        "        # Removing columns having more\n",
        "        # than 95% of the values as zero.\n",
        "        if (df[col] == 0).mean() > 0.95:\n",
        "            removed += 1\n",
        "            df.drop(col, axis=1, inplace=True)\n",
        "\n",
        "print(removed)\n",
        "print(df.shape)"
      ],
      "metadata": {
        "colab": {
          "base_uri": "https://localhost:8080/"
        },
        "id": "plga5AM8Hdts",
        "outputId": "ba4706ce-96a0-4241-9c95-3f57208632ee"
      },
      "execution_count": null,
      "outputs": [
        {
          "output_type": "stream",
          "name": "stdout",
          "text": [
            "0\n",
            "(2694, 12)\n"
          ]
        }
      ]
    },
    {
      "cell_type": "code",
      "source": [
        "for col in ['distributor', 'MPAA']:\n",
        "    le = LabelEncoder()\n",
        "    df[col] = le.fit_transform(df[col])\n"
      ],
      "metadata": {
        "id": "H55tIhNEHiaV"
      },
      "execution_count": null,
      "outputs": []
    },
    {
      "cell_type": "code",
      "source": [
        "plt.figure(figsize=(5, 5))\n",
        "sb.heatmap(df.select_dtypes(include=np.number).corr() > 0.8,\n",
        "            annot=True,\n",
        "            cbar=False)\n",
        "plt.show()"
      ],
      "metadata": {
        "colab": {
          "base_uri": "https://localhost:8080/",
          "height": 558
        },
        "id": "Ws-xT1tCHlUp",
        "outputId": "f2e9206a-87ad-4a9b-d2d3-0a23fcbd3392"
      },
      "execution_count": null,
      "outputs": [
        {
          "output_type": "display_data",
          "data": {
            "text/plain": [
              "<Figure size 500x500 with 1 Axes>"
            ],
            "image/png": "[encoded data removed]"
          },
          "metadata": {}
        }
      ]
    },
    {
      "cell_type": "markdown",
      "source": [
        "### **Model Development**"
      ],
      "metadata": {
        "id": "eKJKaC4uHwh1"
      }
    },
    {
      "cell_type": "code",
      "source": [
        "features = df.drop(['title', 'domestic_revenue'], axis=1)\n",
        "target = df['domestic_revenue'].values\n",
        "\n",
        "X_train, X_val, Y_train, Y_val = train_test_split(features, target,\n",
        "                                    test_size=0.1,\n",
        "                                    random_state=22)\n",
        "X_train.shape, X_val.shape\n",
        "\n"
      ],
      "metadata": {
        "colab": {
          "base_uri": "https://localhost:8080/"
        },
        "id": "UQ7pSrlGHyep",
        "outputId": "d3e1d419-da77-4418-aa4d-33711dfd8189"
      },
      "execution_count": null,
      "outputs": [
        {
          "output_type": "execute_result",
          "data": {
            "text/plain": [
              "((2424, 10), (270, 10))"
            ]
          },
          "metadata": {},
          "execution_count": 50
        }
      ]
    },
    {
      "cell_type": "code",
      "source": [
        "# Normalizing the features for stable and fast training.\n",
        "scaler = StandardScaler()\n",
        "X_train = scaler.fit_transform(X_train)\n",
        "X_val = scaler.transform(X_val)"
      ],
      "metadata": {
        "id": "bkCr9vzDH3vd"
      },
      "execution_count": null,
      "outputs": []
    },
    {
      "cell_type": "markdown",
      "source": [
        "This mean absolute error value we are looking at is between the logarithm of the predicted values and the actual values so, the actual error will be higher than what we are observing above."
      ],
      "metadata": {
        "id": "5lMIl_EPIQ8t"
      }
    },
    {
      "cell_type": "code",
      "source": [],
      "metadata": {
        "id": "zWmbu0cjv0Ie"
      },
      "execution_count": null,
      "outputs": []
    }
  ]
}